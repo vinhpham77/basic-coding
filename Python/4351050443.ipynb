{
 "cells": [
  {
   "cell_type": "code",
   "execution_count": 53,
   "metadata": {},
   "outputs": [
    {
     "name": "stdout",
     "output_type": "stream",
     "text": [
      "[1, 4, 12, 9, 11, 2, 3, 21, 10]\n",
      "Count: 5\n",
      "Sum 45\n"
     ]
    }
   ],
   "source": [
    "A = [1, 4, 12, 9, 11, 2, 3, 21, 10]\n",
    "n = len(A)\n",
    "sum = 0\n",
    "count = 0\n",
    "\n",
    "for i in range(n -1):\n",
    "    if A[i] % 2 != 0:\n",
    "        sum = sum + A[i]\n",
    "        count = count + 1\n",
    "\n",
    "print(A)\n",
    "print('Count:', count)\n",
    "print('Sum', sum)"
   ]
  },
  {
   "cell_type": "code",
   "execution_count": 54,
   "metadata": {},
   "outputs": [
    {
     "name": "stdout",
     "output_type": "stream",
     "text": [
      "      Tên Giới tính  Tuổi    Quê quán  Số phiếu bầu\n",
      "0     Lên       Nam    56      Hà Nội          2530\n",
      "1     Văn       Nam    63   Bình Định          2332\n",
      "2    Hoàn        Nữ    48   Bình Định          2029\n",
      "3  Trường       Nam    55  Quãng Ngãi          1985\n",
      "4     Thu        Nữ    45   Bình Định          2229\n",
      "5    Toàn       Nam    52   Bình Định          1903\n"
     ]
    },
    {
     "data": {
      "text/html": [
       "<div>\n",
       "<style scoped>\n",
       "    .dataframe tbody tr th:only-of-type {\n",
       "        vertical-align: middle;\n",
       "    }\n",
       "\n",
       "    .dataframe tbody tr th {\n",
       "        vertical-align: top;\n",
       "    }\n",
       "\n",
       "    .dataframe thead th {\n",
       "        text-align: right;\n",
       "    }\n",
       "</style>\n",
       "<table border=\"1\" class=\"dataframe\">\n",
       "  <thead>\n",
       "    <tr style=\"text-align: right;\">\n",
       "      <th></th>\n",
       "      <th>Tên</th>\n",
       "      <th>Giới tính</th>\n",
       "      <th>Tuổi</th>\n",
       "      <th>Quê quán</th>\n",
       "      <th>Số phiếu bầu</th>\n",
       "    </tr>\n",
       "  </thead>\n",
       "  <tbody>\n",
       "    <tr>\n",
       "      <th>1</th>\n",
       "      <td>Văn</td>\n",
       "      <td>Nam</td>\n",
       "      <td>63</td>\n",
       "      <td>Bình Định</td>\n",
       "      <td>2332</td>\n",
       "    </tr>\n",
       "    <tr>\n",
       "      <th>2</th>\n",
       "      <td>Hoàn</td>\n",
       "      <td>Nữ</td>\n",
       "      <td>48</td>\n",
       "      <td>Bình Định</td>\n",
       "      <td>2029</td>\n",
       "    </tr>\n",
       "    <tr>\n",
       "      <th>4</th>\n",
       "      <td>Thu</td>\n",
       "      <td>Nữ</td>\n",
       "      <td>45</td>\n",
       "      <td>Bình Định</td>\n",
       "      <td>2229</td>\n",
       "    </tr>\n",
       "    <tr>\n",
       "      <th>5</th>\n",
       "      <td>Toàn</td>\n",
       "      <td>Nam</td>\n",
       "      <td>52</td>\n",
       "      <td>Bình Định</td>\n",
       "      <td>1903</td>\n",
       "    </tr>\n",
       "  </tbody>\n",
       "</table>\n",
       "</div>"
      ],
      "text/plain": [
       "    Tên Giới tính  Tuổi   Quê quán  Số phiếu bầu\n",
       "1   Văn       Nam    63  Bình Định          2332\n",
       "2  Hoàn        Nữ    48  Bình Định          2029\n",
       "4   Thu        Nữ    45  Bình Định          2229\n",
       "5  Toàn       Nam    52  Bình Định          1903"
      ]
     },
     "execution_count": 54,
     "metadata": {},
     "output_type": "execute_result"
    }
   ],
   "source": [
    "import pandas as pd\n",
    "import matplotlib.pyplot as plt\n",
    "\n",
    "ten = ['Lên', 'Văn', 'Hoàn', 'Trường', 'Thu', 'Toàn']\n",
    "gioiTinh = ['Nam', 'Nam', 'Nữ', 'Nam', 'Nữ', 'Nam']\n",
    "tuoi = [56, 63, 48, 55, 45, 52]\n",
    "queQuan = ['Hà Nội', 'Bình Định', 'Bình Định', 'Quãng Ngãi', 'Bình Định', 'Bình Định']\n",
    "soPhieuBau = [2530, 2332, 2029, 1985, 2229, 1903]\n",
    "\n",
    "location = 'Sophieubau.CSV'\n",
    "duLieu = zip(ten, gioiTinh, tuoi, queQuan, soPhieuBau)\n",
    "cot = ['Tên', 'Giới tính', 'Tuổi', 'Quê quán', 'Số phiếu bầu']\n",
    "\n",
    "df = pd.DataFrame(data = duLieu, columns = cot)\n",
    "\n",
    "df.to_csv(location)\n",
    "\n",
    "print(df)\n",
    "df[df['Quê quán'] == 'Bình Định']"
   ]
  },
  {
   "cell_type": "code",
   "execution_count": 55,
   "metadata": {},
   "outputs": [],
   "source": [
    "df = pd.read_csv(location)"
   ]
  },
  {
   "cell_type": "code",
   "execution_count": 56,
   "metadata": {},
   "outputs": [
    {
     "data": {
      "image/png": "[encoded data removed]",
      "text/plain": [
       "<Figure size 432x288 with 1 Axes>"
      ]
     },
     "metadata": {
      "needs_background": "light"
     },
     "output_type": "display_data"
    }
   ],
   "source": [
    "plt.plot(df['Tên'], df['Số phiếu bầu'])\n",
    "plt.xlabel('Tên người được bầu')\n",
    "plt.ylabel('Số phiếu')\n",
    "\n",
    "plt.show()"
   ]
  }
 ],
 "metadata": {
  "interpreter": {
   "hash": "2be5faf79681da6f2a61fdfdd5405d65d042280f7fba6178067603e3a2925119"
  },
  "kernelspec": {
   "display_name": "Python 3.10.4 64-bit",
   "language": "python",
   "name": "python3"
  },
  "language_info": {
   "codemirror_mode": {
    "name": "ipython",
    "version": 3
   },
   "file_extension": ".py",
   "mimetype": "text/x-python",
   "name": "python",
   "nbconvert_exporter": "python",
   "pygments_lexer": "ipython3",
   "version": "3.10.4"
  },
  "orig_nbformat": 4
 },
 "nbformat": 4,
 "nbformat_minor": 2
}
